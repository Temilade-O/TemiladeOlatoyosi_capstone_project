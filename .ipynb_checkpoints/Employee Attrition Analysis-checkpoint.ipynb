{
 "cells": [
  {
   "cell_type": "markdown",
   "metadata": {},
   "source": [
    "# Project Topic: Understanding factors that affects employee attrition\n"
   ]
  },
  {
   "cell_type": "markdown",
   "metadata": {},
   "source": [
    "# Setting the environment by Importing libraries needed"
   ]
  },
  {
   "cell_type": "code",
   "execution_count": null,
   "metadata": {},
   "outputs": [],
   "source": [
    "import pandas as pd\n",
    "import numpy as np\n",
    "import matplotlib.pyplot as plt\n",
    "import seaborn as sns"
   ]
  },
  {
   "cell_type": "markdown",
   "metadata": {},
   "source": [
    "# Reading in the dataset"
   ]
  },
  {
   "cell_type": "code",
   "execution_count": null,
   "metadata": {},
   "outputs": [],
   "source": [
    "df = pd.read_csv(\"employeeAttrition.csv\")\n",
    "df.head()"
   ]
  },
  {
   "cell_type": "markdown",
   "metadata": {},
   "source": [
    "df['Attrition']=df['Attrition'].replace(['Yes'], 1)\n",
    "df['Attrition']=df['Attrition'].replace(['No'], 0)\n",
    "df['Gender']=df['Gender'].replace(['Male'], 1)\n",
    "df['Gender']=df['Gender'].replace(['Female'], 0)\n",
    "df['MaritalStatus']=df['MaritalStatus'].replace(['Single'],1)\n",
    "df['MaritalStatus']=df['MaritalStatus'].replace(['Married'],2)\n",
    "df['MaritalStatus']=df['MaritalStatus'].replace(['Divorced'],3)\n",
    "\n",
    "df.head(3)"
   ]
  },
  {
   "cell_type": "code",
   "execution_count": null,
   "metadata": {},
   "outputs": [],
   "source": [
    "df['Education']=df['Education'].replace([1],'Below college')\n",
    "df['Education']=df['Education'].replace([2],'College')\n",
    "df['Education']=df['Education'].replace([3],'Bachelor')\n",
    "df['Education']=df['Education'].replace([4],'Masters')\n",
    "df['Education']=df['Education'].replace([5],'Doctor')\n",
    "\n",
    "df['JobSatisfaction']=df['JobSatisfaction'].replace([1],'Low')\n",
    "df['JobSatisfaction']=df['JobSatisfaction'].replace([2],'Medium')\n",
    "df['JobSatisfaction']=df['JobSatisfaction'].replace([3],'High')\n",
    "df['JobSatisfaction']=df['JobSatisfaction'].replace([4],'Very High')\n",
    "\n",
    "df['JobInvolvement']=df['JobInvolvement'].replace([1],'Low')\n",
    "df['JobInvolvement']=df['JobInvolvement'].replace([2],'Medium')\n",
    "df['JobInvolvement']=df['JobInvolvement'].replace([3],'High')\n",
    "df['JobInvolvement']=df['JobInvolvement'].replace([4],'Very High')\n",
    "\n",
    "df['PerformanceRating']=df['PerformanceRating'].replace([1],'Low')\n",
    "df['PerformanceRating']=df['PerformanceRating'].replace([2],'Good')\n",
    "df['PerformanceRating']=df['PerformanceRating'].replace([3],'Excellent')\n",
    "df['PerformanceRating']=df['PerformanceRating'].replace([4],'Outstanding')"
   ]
  },
  {
   "cell_type": "code",
   "execution_count": null,
   "metadata": {
    "scrolled": true
   },
   "outputs": [],
   "source": [
    "#dropping the columns that are not needed\n",
    "new_df = df.drop([ 'EmployeeCount', 'EmployeeNumber', 'HourlyRate', 'Over18', 'StandardHours','RelationshipSatisfaction','WorkLifeBalance', 'StockOptionLevel', 'YearsInCurrentRole','DailyRate', 'YearsSinceLastPromotion', 'YearsWithCurrManager'], axis=1)\n",
    "new_df.head()"
   ]
  },
  {
   "cell_type": "code",
   "execution_count": null,
   "metadata": {},
   "outputs": [],
   "source": [
    "new_df.info()"
   ]
  },
  {
   "cell_type": "code",
   "execution_count": null,
   "metadata": {},
   "outputs": [],
   "source": [
    "new_df.describe()"
   ]
  },
  {
   "cell_type": "code",
   "execution_count": null,
   "metadata": {
    "scrolled": true
   },
   "outputs": [],
   "source": [
    "# Adding new column 'AgeRange'\n",
    "age_ranges = [\"{0} - {1}\".format(age, age + 10) for age in range(10, 60, 10)]\n",
    "age_ranges\n",
    "count_unique_age_ranges = len(age_ranges)\n",
    "count_unique_age_ranges\n",
    "new_df['AgeRange'] = pd.cut(x=new_df['Age'], bins=count_unique_age_ranges, labels=age_ranges)\n",
    "new_df.head(6)"
   ]
  },
  {
   "cell_type": "code",
   "execution_count": null,
   "metadata": {},
   "outputs": [],
   "source": [
    "#group by AgeRange\n",
    "group_df= new_df.groupby(['Attrition']).count()\n",
    "group_df.head()"
   ]
  },
  {
   "cell_type": "code",
   "execution_count": null,
   "metadata": {},
   "outputs": [],
   "source": [
    "new_df['Attrition'].value_counts()"
   ]
  },
  {
   "cell_type": "code",
   "execution_count": null,
   "metadata": {},
   "outputs": [],
   "source": []
  },
  {
   "cell_type": "code",
   "execution_count": null,
   "metadata": {},
   "outputs": [],
   "source": [
    "new_df.groupby(['Attrition']).mean()"
   ]
  },
  {
   "cell_type": "code",
   "execution_count": null,
   "metadata": {
    "slideshow": {
     "slide_type": "subslide"
    }
   },
   "outputs": [],
   "source": [
    "new_df.groupby('Education').mean()\n"
   ]
  },
  {
   "cell_type": "code",
   "execution_count": null,
   "metadata": {},
   "outputs": [],
   "source": [
    "pd.crosstab(new_df.Attrition,new_df.Education).plot(kind='bar')\n",
    "plt.title('Attrition level for Education')\n",
    "plt.xlabel('Education')\n",
    "plt.ylabel('Attrition Frequency')"
   ]
  },
  {
   "cell_type": "code",
   "execution_count": null,
   "metadata": {},
   "outputs": [],
   "source": [
    "new_df.groupby('Department').mean()\n"
   ]
  },
  {
   "cell_type": "raw",
   "metadata": {},
   "source": []
  },
  {
   "cell_type": "code",
   "execution_count": null,
   "metadata": {
    "scrolled": false
   },
   "outputs": [],
   "source": [
    "features=['Attrition','JobInvolvement','Education','JobSatisfaction', 'PerformanceRating','DistanceFromHome', 'Gender','MaritalStatus','Department', 'AgeRange']\n",
    "fig=plt.subplots(figsize=(15,20))\n",
    "for i, j in enumerate(features):\n",
    "    plt.subplot(5, 2, i+1)\n",
    "    plt.subplots_adjust(hspace = 1.0)\n",
    "    sns.countplot(x=j,data = new_df)\n",
    "    plt.xticks(rotation=90)\n",
    "    plt.title('NoOfEmployee')\n",
    "    plt.savefig('AboutEmployee_AtIBM_bar_chart')\n",
    "    \n",
    "    #You can observe the following points in the above visualization:\n",
    "\n",
    "#Most of the employee is doing the project from 3-5.\n",
    "#There is a huge drop between 3 years and 4 years experienced employee.\n",
    "#The no of employee left is 19 % of the total employment.\n",
    "#A decidedly less number of employee get the promotion in the last 5 year.\n",
    "#The sales department is having maximum no.of employee followed by technical and support\n",
    "#Most of the employees are getting salary either medium or low."
   ]
  },
  {
   "cell_type": "code",
   "execution_count": null,
   "metadata": {
    "scrolled": false
   },
   "outputs": [],
   "source": [
    "fig=plt.subplots(figsize=(15,20))\n",
    "for i, j in enumerate(features):\n",
    "    plt.subplot(5, 2, i+1)\n",
    "    plt.subplots_adjust(hspace = 1.0)\n",
    "    sns.countplot(x=j,data = new_df, hue='Attrition')\n",
    "    plt.xticks(rotation=90)\n",
    "    plt.title('No.OfEmployee')\n",
    "    plt.savefig('Factors_of_Attrition_bar_chart')\n",
    "    \n",
    "    #You can observe the following points in the above visualization:\n",
    "\n",
    "#Those employees who have the number of projects more than 5 were left the company.\n",
    "#The employee who had done 6 and 7 projects, left the company it seems to like that they were overloaded with work.\n",
    "#The employee with five-year experience is leaving more because of no promotions in last 5 years and more than 6 years experience are not leaving because of affection with the company.\n",
    "#Those who promotion in last 5 years they didn't leave, i.e., all those left they didn't get the promotion in the previous 5 years."
   ]
  },
  {
   "cell_type": "markdown",
   "metadata": {},
   "source": [
    "Data Analysis and Visualization Summary:\n",
    "Following features are most influencing a person to leave the company:\n",
    "\n",
    "Promotions: Employees are far more likely to quit their job if they haven't received a promotion in the last 5 years.\n",
    "Time with Company: Here, The three-year mark looks like a time to be a crucial point in an employee's career. Most of them quit their job around the three-year mark. Another important point is 6-years point, where the employee is very unlikely to leave.\n",
    "Number Of Projects: Employee engagement is another critical factor to influence the employee to leave the company. Employees with 3-5 projects are less likely to leave the company. The employee with less and more number of projects are likely to leave.\n",
    "Salary: Most of the employees that quit among the mid or low salary groups."
   ]
  },
  {
   "cell_type": "markdown",
   "metadata": {},
   "source": [
    "# Question: How does age and gender affect employee attrition, does it has anything to tell/hint us about our health?"
   ]
  },
  {
   "cell_type": "code",
   "execution_count": null,
   "metadata": {},
   "outputs": [],
   "source": [
    "#showing the frequency of age range\n",
    "hg= sns.catplot(x='AgeRange',data=new_df, kind='count', ci=None)\n",
    "hg.fig.suptitle('This table shows the Frequency of Age', y= 1.03)\n"
   ]
  },
  {
   "cell_type": "code",
   "execution_count": null,
   "metadata": {},
   "outputs": [],
   "source": [
    "#This table shows the level of attrition based on Gender and Age Range\n",
    "hg=sns.catplot(x='Gender',col='AgeRange',data=new_df, ci = None, kind= 'count', hue='Attrition')\n",
    "hg.fig.suptitle('This table shows the level of attrition based on Gender and Age Range', y= 1.05)"
   ]
  },
  {
   "cell_type": "markdown",
   "metadata": {},
   "source": [
    "# Question: How does work performance rating  affect employee attrition, In what way does level of education enhance work performance rating (positively/negatively) and how does it affect employee attrition"
   ]
  },
  {
   "cell_type": "code",
   "execution_count": null,
   "metadata": {
    "scrolled": true
   },
   "outputs": [],
   "source": [
    "#This table shows the effect of education on employee attrition\n",
    "ag= sns.catplot(x='Attrition',col='AgeRange', data= new_df, kind= 'count', hue='Education' )\n",
    "ag.fig.suptitle('The effect of education on employee attrition', y= 1.05)\n"
   ]
  },
  {
   "cell_type": "code",
   "execution_count": null,
   "metadata": {},
   "outputs": [],
   "source": [
    "bg= sns.catplot(x='PerformanceRating', hue= 'AgeRange', col= 'Education', data=new_df, kind='count')\n",
    "bg.fig.suptitle(' This graph shows how Education affects Performance Rating using AgeRange', y=1.05)"
   ]
  },
  {
   "cell_type": "code",
   "execution_count": null,
   "metadata": {
    "scrolled": true
   },
   "outputs": [],
   "source": [
    "#this table shows how education affects Performance Rating\n",
    "dg=sns.catplot(x='PerformanceRating',col='AgeRange', data= new_df, kind= 'count', hue='Education')\n",
    "dg.fig.suptitle('The effect of education on performance rating based on age group', y=1.05)\n"
   ]
  },
  {
   "cell_type": "code",
   "execution_count": null,
   "metadata": {
    "scrolled": false
   },
   "outputs": [],
   "source": [
    "#this plot is supposed to depict how monthly rate affects Performance rating using Age Range\n",
    "plt.figure(figsize=(15,10))\n",
    "plt.title('This table shows how monhtly rate affects performance rating based on age group', y = 1.03)\n",
    "fig=sns.boxplot(x='AgeRange',y='MonthlyRate', data= new_df, hue='PerformanceRating')\n"
   ]
  },
  {
   "cell_type": "code",
   "execution_count": null,
   "metadata": {},
   "outputs": [],
   "source": [
    "#sns.catplot(x='MonthlyRate',col='AgeRange',data=new_df, kind= 'count',hue='PerformanceRating')\n",
    "\n",
    "NoAttrition= pd.to_numeric(new_df['Attrition'])== '1'.count()\n",
    "print (NoAttrition)\n",
    "TotalStaff= pd.to_numeric(new_df['Attrition']).count()\n",
    "print ('TotalStaff: ' + TotalStaff)\n",
    "AttritionRate= (NoAttrition/TotalStaff)*100\n",
    "print ('The Attriton Rate of IBM is : '+ AttritionRate)"
   ]
  },
  {
   "cell_type": "code",
   "execution_count": null,
   "metadata": {},
   "outputs": [],
   "source": [
    "NoAttrition= pd.to_numeric(new_df['Attrition']==1).count()\n",
    "print (NoAttrition)"
   ]
  },
  {
   "cell_type": "markdown",
   "metadata": {},
   "source": [
    "# Question: How does distance from home affect work performance rating and in what way does it leads to employee attrition?"
   ]
  },
  {
   "cell_type": "code",
   "execution_count": null,
   "metadata": {},
   "outputs": [],
   "source": [
    "# This plt shows how distance from work affect performance rating based on age range\n",
    "df = new_df.pivot_table(index='Gender', columns='AgeRange', values='MonthlyIncome', aggfunc=np.median)\n",
    "sns.heatmap(df, annot=True, fmt=\".1f\")\n",
    "plt.show()"
   ]
  },
  {
   "cell_type": "code",
   "execution_count": null,
   "metadata": {},
   "outputs": [],
   "source": [
    "# # This plt shows how distance from work affect performance rating based on Atrrition\n",
    "df = new_df.pivot_table(index='Attrition', columns='AgeRange', values='DistanceFromHome', aggfunc=np.median)\n",
    "sns.heatmap(df, annot=True, fmt=\".1f\")\n",
    "plt.show()"
   ]
  },
  {
   "cell_type": "markdown",
   "metadata": {},
   "source": [
    "# Question: How is job satisfaction rate a factor for employee attrition?"
   ]
  },
  {
   "cell_type": "code",
   "execution_count": null,
   "metadata": {
    "scrolled": true
   },
   "outputs": [],
   "source": [
    "# this plt shows the relationship between job satisfaction rate and level of attrition\n",
    "#heat_df = new_df.pivot_table(index='Attrition', columns='AgeRange', values='JobSatisfaction', aggfunc=np.median)\n",
    "#sns.heatmap(heat_df, annot=True, fmt=\".1f\")\n",
    "#plt.show()\n",
    "\n",
    "gg=sns.catplot(x='JobSatisfaction',col='AgeRange', data= new_df, kind= 'count')\n",
    "gg.fig.suptitle('The effect of education on performance rating based on age group', y=1.05)"
   ]
  },
  {
   "cell_type": "code",
   "execution_count": null,
   "metadata": {},
   "outputs": [],
   "source": []
  },
  {
   "cell_type": "code",
   "execution_count": null,
   "metadata": {},
   "outputs": [],
   "source": [
    "# The Relationship between AgeRange and Total working years and level of attrition\n",
    "\n",
    "sns.relplot(x=\"Attrition\", y=\"TotalWorkingYears\", col='AgeRange',kind=\"line\", data=new_df, ci=None)\n"
   ]
  },
  {
   "cell_type": "code",
   "execution_count": null,
   "metadata": {
    "scrolled": true
   },
   "outputs": [],
   "source": [
    "#sns.relplot(x='Attrition',y='TotalWorkingYears',hue='MaritalStatus',size='AgeRange',col='Gender',data=new_df)\n",
    "\n",
    "# The Relationship between AgeRange, Total working years and Jobsatisfcation\n",
    "sns.relplot(x=\"AgeRange\", y=\"TotalWorkingYears\", col='JobSatisfaction',kind=\"line\", data=new_df)"
   ]
  },
  {
   "cell_type": "code",
   "execution_count": null,
   "metadata": {},
   "outputs": [],
   "source": [
    "# The Relationship between AgeRange,Total working years, Jobsatisfcation and Education\n",
    "sns.relplot(x=\"JobSatisfaction\", y=\"TotalWorkingYears\", col='AgeRange',kind=\"line\",size='Education', data=new_df, ci=None)\n"
   ]
  },
  {
   "cell_type": "markdown",
   "metadata": {},
   "source": [
    "# Question: Who is at risk of employee attrition: \n",
    "            #Male: Single, married or divorced\n",
    "            #Female: Single, married or divorced\n"
   ]
  },
  {
   "cell_type": "code",
   "execution_count": null,
   "metadata": {},
   "outputs": [],
   "source": [
    "# This plt shows the category of people at the risk of employee attrition based on age range\n",
    "sns.relplot(x='AgeRange',y='Gender',hue='MaritalStatus',col='Attrition',data=new_df)"
   ]
  }
 ],
 "metadata": {
  "kernelspec": {
   "display_name": "Python 3",
   "language": "python",
   "name": "python3"
  },
  "language_info": {
   "codemirror_mode": {
    "name": "ipython",
    "version": 3
   },
   "file_extension": ".py",
   "mimetype": "text/x-python",
   "name": "python",
   "nbconvert_exporter": "python",
   "pygments_lexer": "ipython3",
   "version": "3.7.3"
  }
 },
 "nbformat": 4,
 "nbformat_minor": 2
}
